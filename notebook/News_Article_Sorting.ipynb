{
  "cells": [
    {
      "cell_type": "markdown",
      "metadata": {
        "id": "PAYPHQ8xOoB7"
      },
      "source": [
        "# News Article Sorting"
      ]
    },
    {
      "cell_type": "markdown",
      "metadata": {
        "id": "TYiFF8vIb-_t"
      },
      "source": [
        "News article classification is the task of assigning predefined categories to news articles based on their content. It leverages Natural Language Processing (NLP) and machine learning techniques to automatically categorize news articles into topics like sports, politics, technology, and others. This automation streamlines information organization, retrieval, and analysis, saving time and resources compared to manual classification."
      ]
    },
    {
      "cell_type": "markdown",
      "metadata": {
        "id": "0_UbI6-FLBX3"
      },
      "source": [
        "Importing dependencies"
      ]
    },
    {
      "cell_type": "code",
      "execution_count": 1,
      "metadata": {
        "id": "wks01r8CFKHk"
      },
      "outputs": [],
      "source": [
        "import re\n",
        "import pandas as pd"
      ]
    },
    {
      "cell_type": "markdown",
      "metadata": {
        "id": "b2AWzqdeLMGE"
      },
      "source": [
        "Reading Dataset"
      ]
    },
    {
      "cell_type": "code",
      "execution_count": 2,
      "metadata": {
        "id": "jhUPVwNtFRLN"
      },
      "outputs": [],
      "source": [
        "df = pd.read_csv('https://raw.githubusercontent.com/nikhil-xyz/datasets/refs/heads/main/bbc_text_cls.csv')"
      ]
    },
    {
      "cell_type": "code",
      "execution_count": 3,
      "metadata": {
        "colab": {
          "base_uri": "https://localhost:8080/",
          "height": 206
        },
        "id": "m0_p-KEcabmx",
        "outputId": "6c8428ec-4ae9-4aa2-d636-754b5c49298c"
      },
      "outputs": [
        {
          "data": {
            "text/html": [
              "<div>\n",
              "<style scoped>\n",
              "    .dataframe tbody tr th:only-of-type {\n",
              "        vertical-align: middle;\n",
              "    }\n",
              "\n",
              "    .dataframe tbody tr th {\n",
              "        vertical-align: top;\n",
              "    }\n",
              "\n",
              "    .dataframe thead th {\n",
              "        text-align: right;\n",
              "    }\n",
              "</style>\n",
              "<table border=\"1\" class=\"dataframe\">\n",
              "  <thead>\n",
              "    <tr style=\"text-align: right;\">\n",
              "      <th></th>\n",
              "      <th>text</th>\n",
              "      <th>labels</th>\n",
              "    </tr>\n",
              "  </thead>\n",
              "  <tbody>\n",
              "    <tr>\n",
              "      <th>0</th>\n",
              "      <td>Ad sales boost Time Warner profit\\n\\nQuarterly...</td>\n",
              "      <td>business</td>\n",
              "    </tr>\n",
              "    <tr>\n",
              "      <th>1</th>\n",
              "      <td>Dollar gains on Greenspan speech\\n\\nThe dollar...</td>\n",
              "      <td>business</td>\n",
              "    </tr>\n",
              "    <tr>\n",
              "      <th>2</th>\n",
              "      <td>Yukos unit buyer faces loan claim\\n\\nThe owner...</td>\n",
              "      <td>business</td>\n",
              "    </tr>\n",
              "    <tr>\n",
              "      <th>3</th>\n",
              "      <td>High fuel prices hit BA's profits\\n\\nBritish A...</td>\n",
              "      <td>business</td>\n",
              "    </tr>\n",
              "    <tr>\n",
              "      <th>4</th>\n",
              "      <td>Pernod takeover talk lifts Domecq\\n\\nShares in...</td>\n",
              "      <td>business</td>\n",
              "    </tr>\n",
              "  </tbody>\n",
              "</table>\n",
              "</div>"
            ],
            "text/plain": [
              "                                                text    labels\n",
              "0  Ad sales boost Time Warner profit\\n\\nQuarterly...  business\n",
              "1  Dollar gains on Greenspan speech\\n\\nThe dollar...  business\n",
              "2  Yukos unit buyer faces loan claim\\n\\nThe owner...  business\n",
              "3  High fuel prices hit BA's profits\\n\\nBritish A...  business\n",
              "4  Pernod takeover talk lifts Domecq\\n\\nShares in...  business"
            ]
          },
          "execution_count": 3,
          "metadata": {},
          "output_type": "execute_result"
        }
      ],
      "source": [
        "df.head()"
      ]
    },
    {
      "cell_type": "code",
      "execution_count": 4,
      "metadata": {
        "colab": {
          "base_uri": "https://localhost:8080/"
        },
        "id": "15px8QCYNmJj",
        "outputId": "9f82bdda-e2d4-44ab-aa49-b7fe23394c72"
      },
      "outputs": [
        {
          "data": {
            "text/plain": [
              "(2225, 2)"
            ]
          },
          "execution_count": 4,
          "metadata": {},
          "output_type": "execute_result"
        }
      ],
      "source": [
        "df.shape"
      ]
    },
    {
      "cell_type": "code",
      "execution_count": 5,
      "metadata": {
        "colab": {
          "base_uri": "https://localhost:8080/"
        },
        "id": "fmPUMOdcquYv",
        "outputId": "d35fd42d-fca0-4c72-b5d8-bd5e3a7c6aab"
      },
      "outputs": [
        {
          "data": {
            "text/plain": [
              "array(['business', 'entertainment', 'politics', 'sport', 'tech'],\n",
              "      dtype=object)"
            ]
          },
          "execution_count": 5,
          "metadata": {},
          "output_type": "execute_result"
        }
      ],
      "source": [
        "df.labels.unique()"
      ]
    },
    {
      "cell_type": "code",
      "execution_count": 6,
      "metadata": {
        "colab": {
          "base_uri": "https://localhost:8080/",
          "height": 272
        },
        "id": "IMAzLn_bqxSE",
        "outputId": "c2962c9a-7cef-44b7-8f52-5eb19ccd0eca"
      },
      "outputs": [
        {
          "data": {
            "text/plain": [
              "sport            511\n",
              "business         510\n",
              "politics         417\n",
              "tech             401\n",
              "entertainment    386\n",
              "Name: labels, dtype: int64"
            ]
          },
          "execution_count": 6,
          "metadata": {},
          "output_type": "execute_result"
        }
      ],
      "source": [
        "df.labels.value_counts()"
      ]
    },
    {
      "cell_type": "code",
      "execution_count": 7,
      "metadata": {
        "colab": {
          "base_uri": "https://localhost:8080/",
          "height": 552
        },
        "id": "SiqcGqkAq1Z8",
        "outputId": "1c4b3c4a-97b1-4fa2-cb8f-ebee5944f555"
      },
      "outputs": [
        {
          "data": {
            "text/plain": [
              "<Axes: >"
            ]
          },
          "execution_count": 7,
          "metadata": {},
          "output_type": "execute_result"
        },
        {
          "data": {
            "image/png": "[encoded data removed]",
            "text/plain": [
              "<Figure size 640x480 with 1 Axes>"
            ]
          },
          "metadata": {},
          "output_type": "display_data"
        }
      ],
      "source": [
        "df.labels.value_counts().plot(kind='bar')"
      ]
    },
    {
      "cell_type": "markdown",
      "metadata": {
        "id": "x-v0oOdVLs45"
      },
      "source": [
        "## Data Preprocessing\n",
        "- **Regular Expressions :** Regular expressions (regex or regexp) are sequences of characters that define search patterns within text.\n",
        "- **Stopwords :** Stopwords are commonly used words (like \"the\", \"a\", \"is\") that are often removed from text data during preprocessing for NLP tasks. Stopwords carry little semantic meaning and can overshadow more important words. Removing them helps reduce noise and improve model performance.\n",
        "- **Lemmatization :** Lemmatization reduces words to their base or dictionary form (lemma). It considers the context and part of speech of words, unlike stemming. This helps group different inflected forms of a word, like \"running\" and \"ran,\" under a common lemma \"run.\" NLTK's WordNetLemmatizer is often used for this purpose."
      ]
    },
    {
      "cell_type": "code",
      "execution_count": 8,
      "metadata": {
        "colab": {
          "base_uri": "https://localhost:8080/"
        },
        "id": "pnDdHuSVXiTW",
        "outputId": "fa6a6ac5-6330-4c64-a2ab-2fd90dba9f92"
      },
      "outputs": [
        {
          "name": "stderr",
          "output_type": "stream",
          "text": [
            "[nltk_data] Downloading package punkt to\n",
            "[nltk_data]     C:\\Users\\nikhil\\AppData\\Roaming\\nltk_data...\n",
            "[nltk_data]   Package punkt is already up-to-date!\n",
            "[nltk_data] Downloading package stopwords to\n",
            "[nltk_data]     C:\\Users\\nikhil\\AppData\\Roaming\\nltk_data...\n",
            "[nltk_data]   Package stopwords is already up-to-date!\n",
            "[nltk_data] Downloading package wordnet to\n",
            "[nltk_data]     C:\\Users\\nikhil\\AppData\\Roaming\\nltk_data...\n",
            "[nltk_data]   Package wordnet is already up-to-date!\n"
          ]
        }
      ],
      "source": [
        "import nltk\n",
        "nltk.download('punkt')\n",
        "\n",
        "from nltk.corpus import stopwords\n",
        "nltk.download('stopwords')\n",
        "\n",
        "nltk.download('wordnet')\n",
        "from nltk.stem import WordNetLemmatizer"
      ]
    },
    {
      "cell_type": "code",
      "execution_count": 9,
      "metadata": {
        "id": "5GE_xZF4zjVz"
      },
      "outputs": [],
      "source": [
        "lemmatizer = WordNetLemmatizer()\n",
        "stop_words = set(stopwords.words('english'))"
      ]
    },
    {
      "cell_type": "code",
      "execution_count": 10,
      "metadata": {
        "id": "HnMWl8kHvDh-"
      },
      "outputs": [],
      "source": [
        "import string\n",
        "from nltk.tokenize import word_tokenize"
      ]
    },
    {
      "cell_type": "code",
      "execution_count": 11,
      "metadata": {},
      "outputs": [
        {
          "name": "stdout",
          "output_type": "stream",
          "text": [
            "\u001b[38;5;2m✔ Download and installation successful\u001b[0m\n",
            "You can now load the package via spacy.load('en_core_web_sm')\n"
          ]
        }
      ],
      "source": [
        "import spacy\n",
        "from spacy.cli import download\n",
        "download(\"en_core_web_sm\")\n",
        "nlp = spacy.load('en_core_web_sm')"
      ]
    },
    {
      "cell_type": "code",
      "execution_count": 12,
      "metadata": {
        "id": "Jb12kPd-dh_c"
      },
      "outputs": [],
      "source": [
        "def data_cleaning(text):\n",
        "  text = text.lower()\n",
        "  text = re.sub(r'(\\d+)m', r'\\1 million ', text)  # 7.5m -> 7.5 million\n",
        "  text = re.sub(r'(\\d+)bn', r'\\1 billion ', text)\n",
        "  text = re.sub(r\"(\\d+),(\\d+)\", r\"\\1\\2\", text)  # 146,000 -> 146000\n",
        "  text = re.sub(r'(\\d+).(\\d+)', ' number ', text) # 145 -> number\n",
        "  text = re.sub(r'(\\d+)', ' number ', text)\n",
        "\n",
        "  # text = text.replace('gmt', ' greenwich mean time ')\n",
        "  text = text.replace('\\n', '').replace(\"\\'s\", \"\").replace(\"\\'\",' ')\n",
        "  text = text.replace('$', ' dollar ').replace('£', ' euro ').replace('%', ' percent ')\n",
        "  text = text.replace('\"', '').replace('.','')\n",
        "\n",
        "  # tokenization\n",
        "  # we are using tokenizer from spacy, since nltk's is not working in vscode for reason I don't know\n",
        "  \n",
        "  doc = nlp(text)\n",
        "  tokens = [token.text for token in doc]\n",
        "\n",
        "  # removing stopwords\n",
        "  tokens = [token for token in tokens if token not in stop_words]\n",
        "\n",
        "  # removing punctuations\n",
        "  tokens = [token for token in tokens if token not in string.punctuation]\n",
        "\n",
        "  # Lemmatization\n",
        "  lemmas = [lemmatizer.lemmatize(token) for token in tokens]\n",
        "  sentence = ' '.join(lemmas)\n",
        "  return sentence"
      ]
    },
    {
      "cell_type": "code",
      "execution_count": 13,
      "metadata": {
        "id": "9NMMh9jefz5B"
      },
      "outputs": [],
      "source": [
        "df.text = df.text.apply(data_cleaning)"
      ]
    },
    {
      "cell_type": "markdown",
      "metadata": {
        "id": "PRRYuWYWOHZr"
      },
      "source": [
        "Replacing target labels with numbers"
      ]
    },
    {
      "cell_type": "code",
      "execution_count": 14,
      "metadata": {
        "id": "YViADouqbSR2"
      },
      "outputs": [],
      "source": [
        "target_encoding = {'business' : 0, 'entertainment' : 1, 'politics' : 2, 'sport' : 3, 'tech' : 4}\n",
        "df.labels = df.labels.map(target_encoding)"
      ]
    },
    {
      "cell_type": "markdown",
      "metadata": {
        "id": "4Glc8QlHOXjh"
      },
      "source": [
        "Spliting data into train and test set"
      ]
    },
    {
      "cell_type": "code",
      "execution_count": 15,
      "metadata": {
        "id": "4Z2h7I_1ari6"
      },
      "outputs": [],
      "source": [
        "from sklearn.model_selection import train_test_split\n",
        "X_train, X_test, y_train, y_test = train_test_split(df.text, df.labels, test_size=0.2, random_state=50)"
      ]
    },
    {
      "cell_type": "code",
      "execution_count": 16,
      "metadata": {
        "id": "-bs6BF6Wa9B-"
      },
      "outputs": [
        {
          "name": "stdout",
          "output_type": "stream",
          "text": [
            "(1780,) (445,)\n",
            "(1780,) (445,)\n"
          ]
        }
      ],
      "source": [
        "print(X_train.shape, X_test.shape)\n",
        "print(y_train.shape, y_test.shape)"
      ]
    },
    {
      "cell_type": "markdown",
      "metadata": {},
      "source": [
        "Tokens inside the longest article"
      ]
    },
    {
      "cell_type": "code",
      "execution_count": 17,
      "metadata": {
        "colab": {
          "base_uri": "https://localhost:8080/"
        },
        "id": "fqXKCUpvdHPk",
        "outputId": "641ff405-b2da-4832-9371-ed7642b179f1"
      },
      "outputs": [
        {
          "data": {
            "text/plain": [
              "2208"
            ]
          },
          "execution_count": 17,
          "metadata": {},
          "output_type": "execute_result"
        }
      ],
      "source": [
        "max(df.text.apply(lambda x: len(x.split())))"
      ]
    },
    {
      "cell_type": "markdown",
      "metadata": {
        "id": "Uwlcr0HgPLW-"
      },
      "source": [
        "## Tokenization and Padding\n",
        "- **Tokenization :** Tokenization is the process of breaking down text into smaller units called tokens. These tokens can be words, subwords, or characters, depending on the tokenizer used. Machine learning models work with numerical data. Tokenization converts text into a numerical representation that the model can understand.\n",
        "- **Pad Sequences :**  pad_sequences is used to ensure that all sequences have the same length. This is necessary because neural networks often require input data to be in a fixed-size format."
      ]
    },
    {
      "cell_type": "code",
      "execution_count": 18,
      "metadata": {
        "id": "xep3YhVPcBP_"
      },
      "outputs": [],
      "source": [
        "from tensorflow.keras.preprocessing.text import Tokenizer\n",
        "from tensorflow.keras.utils import pad_sequences"
      ]
    },
    {
      "cell_type": "code",
      "execution_count": 19,
      "metadata": {
        "id": "T24gOsm9cK4A"
      },
      "outputs": [],
      "source": [
        "max_words = 50000  # Total number of tokens used to train the model\n",
        "max_len = 2205 # Number of words in largest article\n",
        "\n",
        "tokenizer = Tokenizer(num_words=max_words)\n",
        "tokenizer.fit_on_texts(X_train)\n",
        "\n",
        "sequences = tokenizer.texts_to_sequences(X_train)\n",
        "sequences_matrix = pad_sequences(sequences,maxlen=max_len)"
      ]
    },
    {
      "cell_type": "code",
      "execution_count": 20,
      "metadata": {
        "colab": {
          "base_uri": "https://localhost:8080/"
        },
        "id": "kH4SNTtSd8GW",
        "outputId": "a9d39eb5-a2b8-4fb8-f970-3e8ad5796d83"
      },
      "outputs": [
        {
          "data": {
            "text/plain": [
              "array([[    0,     0,     0, ...,    26,   564,   547],\n",
              "       [    0,     0,     0, ...,   668,  3536, 15332],\n",
              "       [    0,     0,     0, ...,   360,  1869,   634],\n",
              "       ...,\n",
              "       [    0,     0,     0, ...,  2897,  3369,   925],\n",
              "       [    0,     0,     0, ..., 29153,   601, 15312],\n",
              "       [    0,     0,     0, ...,  9298,   804,  8865]])"
            ]
          },
          "execution_count": 20,
          "metadata": {},
          "output_type": "execute_result"
        }
      ],
      "source": [
        "sequences_matrix"
      ]
    },
    {
      "cell_type": "markdown",
      "metadata": {
        "id": "EPHAV4BeQU1j"
      },
      "source": [
        "## RNN Network\n",
        "- **Embedding Layer :** Transforms word indices into dense vectors (word embeddings). Captures semantic relationships between words.\n",
        "- **Bidirectional LSTM Layer :** Processes the sequence in both forward and backward directions. Learns long-term dependencies in the text.\n",
        "- **Dense Layers (Feature Extractors) :** Multiple dense layers with ReLU activation extract features from the LSTM output. Increase the model's capacity to learn complex patterns.\n",
        "- **Output Layer :** A dense layer with sigmoid activation outputs probabilities for each category. Used for multi-class classification."
      ]
    },
    {
      "cell_type": "code",
      "execution_count": 21,
      "metadata": {
        "id": "PzwIJzDIeDOt"
      },
      "outputs": [],
      "source": [
        "from tensorflow.keras.models import Sequential\n",
        "from tensorflow.keras.layers import LSTM, Activation, Dense, Dropout, Input, Embedding, SpatialDropout1D, Bidirectional\n",
        "from tensorflow.keras.optimizers import RMSprop\n",
        "from tensorflow.keras.callbacks import EarlyStopping"
      ]
    },
    {
      "cell_type": "code",
      "execution_count": 22,
      "metadata": {
        "id": "hu0w6BGeVfTN"
      },
      "outputs": [],
      "source": [
        "early_stopping = EarlyStopping(monitor='val_loss', patience=3)"
      ]
    },
    {
      "cell_type": "code",
      "execution_count": 23,
      "metadata": {
        "id": "AKDSz2LMkmgw"
      },
      "outputs": [],
      "source": [
        "model = Sequential()\n",
        "# Create the embedding layer\n",
        "model.add(Embedding(max_words, 128))\n",
        "# Bidirectional LSTM Layer\n",
        "model.add(Bidirectional(LSTM(32, activation='tanh')))\n",
        "# Feature extractor Fully connected layers\n",
        "# model.add(Dense(32, activation='relu'))\n",
        "# Final layer\n",
        "model.add(Dense(5, activation='sigmoid'))"
      ]
    },
    {
      "cell_type": "code",
      "execution_count": 24,
      "metadata": {
        "id": "qzK66Pewee6b"
      },
      "outputs": [],
      "source": [
        "model.compile(loss='sparse_categorical_crossentropy', optimizer='Adam', metrics=['accuracy'])"
      ]
    },
    {
      "cell_type": "code",
      "execution_count": 25,
      "metadata": {
        "colab": {
          "base_uri": "https://localhost:8080/"
        },
        "id": "qDRMqOjnenBf",
        "outputId": "e4ca3307-0752-435f-ec05-02dc7d55c4d1"
      },
      "outputs": [
        {
          "name": "stdout",
          "output_type": "stream",
          "text": [
            "Epoch 1/8\n",
            "12/12 [==============================] - 254s 21s/step - loss: 1.6000 - accuracy: 0.2360 - val_loss: 1.5914 - val_accuracy: 0.2135\n",
            "Epoch 2/8\n",
            "12/12 [==============================] - 233s 19s/step - loss: 1.5474 - accuracy: 0.2669 - val_loss: 1.5382 - val_accuracy: 0.3146\n",
            "Epoch 3/8\n",
            "12/12 [==============================] - 240s 20s/step - loss: 1.3326 - accuracy: 0.4340 - val_loss: 1.2166 - val_accuracy: 0.4326\n",
            "Epoch 4/8\n",
            "12/12 [==============================] - 320s 27s/step - loss: 1.0817 - accuracy: 0.5695 - val_loss: 1.1304 - val_accuracy: 0.5702\n",
            "Epoch 5/8\n",
            "12/12 [==============================] - 310s 25s/step - loss: 0.8854 - accuracy: 0.6636 - val_loss: 0.9046 - val_accuracy: 0.6208\n",
            "Epoch 6/8\n",
            "12/12 [==============================] - 266s 22s/step - loss: 0.7282 - accuracy: 0.7662 - val_loss: 0.8619 - val_accuracy: 0.6180\n",
            "Epoch 7/8\n",
            "12/12 [==============================] - 361s 31s/step - loss: 0.6685 - accuracy: 0.8841 - val_loss: 0.7469 - val_accuracy: 0.7584\n",
            "Epoch 8/8\n",
            "12/12 [==============================] - 253s 21s/step - loss: 0.5681 - accuracy: 0.9136 - val_loss: 0.7376 - val_accuracy: 0.7612\n"
          ]
        }
      ],
      "source": [
        "# starting model training\n",
        "history = model.fit(sequences_matrix, y_train, batch_size=128, epochs=8, validation_split=0.2)"
      ]
    },
    {
      "cell_type": "code",
      "execution_count": 26,
      "metadata": {
        "id": "y9TVwLN8e2UQ"
      },
      "outputs": [],
      "source": [
        "test_sequences = tokenizer.texts_to_sequences(X_test)\n",
        "test_sequences_matrix = pad_sequences(test_sequences,maxlen=max_len)"
      ]
    },
    {
      "cell_type": "code",
      "execution_count": 27,
      "metadata": {
        "colab": {
          "base_uri": "https://localhost:8080/"
        },
        "id": "rxFa5ntVe9Fg",
        "outputId": "1b323ecd-4963-4dda-dd62-7fb96b843abd"
      },
      "outputs": [
        {
          "name": "stdout",
          "output_type": "stream",
          "text": [
            "14/14 [==============================] - 27s 569ms/step\n"
          ]
        }
      ],
      "source": [
        "lstm_prediction = model.predict(test_sequences_matrix)"
      ]
    },
    {
      "cell_type": "code",
      "execution_count": 28,
      "metadata": {
        "id": "LF1d_UearLB7"
      },
      "outputs": [],
      "source": [
        "import numpy as np"
      ]
    },
    {
      "cell_type": "code",
      "execution_count": 29,
      "metadata": {
        "id": "4oSVyT7GfBDP"
      },
      "outputs": [],
      "source": [
        "pred = []\n",
        "for prediction in lstm_prediction:\n",
        "  pred.append(np.argmax(prediction))"
      ]
    },
    {
      "cell_type": "code",
      "execution_count": 30,
      "metadata": {
        "colab": {
          "base_uri": "https://localhost:8080/"
        },
        "id": "Aoozp4GegRdD",
        "outputId": "c2210f2a-3a19-451f-e60b-6a200b9e7c3c"
      },
      "outputs": [
        {
          "data": {
            "text/plain": [
              "array([[98,  0, 10,  0,  0],\n",
              "       [34, 36,  8,  2,  0],\n",
              "       [ 0,  0, 66,  0,  0],\n",
              "       [ 0,  0,  2, 95,  0],\n",
              "       [45,  2,  4,  3, 40]], dtype=int64)"
            ]
          },
          "execution_count": 30,
          "metadata": {},
          "output_type": "execute_result"
        }
      ],
      "source": [
        "from sklearn.metrics import confusion_matrix\n",
        "cm = confusion_matrix(y_test,pred)\n",
        "cm"
      ]
    },
    {
      "cell_type": "code",
      "execution_count": 31,
      "metadata": {
        "colab": {
          "base_uri": "https://localhost:8080/",
          "height": 564
        },
        "id": "n2VBguVKhCeb",
        "outputId": "6170375a-ad77-474b-b2c2-11faadac2d02"
      },
      "outputs": [
        {
          "data": {
            "image/png": "[encoded data removed]",
            "text/plain": [
              "<Figure size 800x600 with 2 Axes>"
            ]
          },
          "metadata": {},
          "output_type": "display_data"
        }
      ],
      "source": [
        "import matplotlib.pyplot as plt\n",
        "import seaborn as sns\n",
        "plt.figure(figsize=(8, 6))  # Adjust the figure size as needed\n",
        "sns.heatmap(cm, annot=True, fmt=\"d\", cmap=\"Blues\",\n",
        "            xticklabels=target_encoding.keys(),\n",
        "            yticklabels=target_encoding.keys())\n",
        "plt.xlabel(\"Predicted Labels\")\n",
        "plt.ylabel(\"True Labels\")\n",
        "plt.title(\"Confusion Matrix\")\n",
        "\n",
        "plt.savefig('confusion_matrix.png')\n",
        "plt.show()"
      ]
    },
    {
      "cell_type": "markdown",
      "metadata": {
        "id": "L7dgFwQpSeSX"
      },
      "source": [
        "## Performance Matrix\n",
        "- **Accuracy:** Overall correctness of the model (total correct predictions / total predictions).\n",
        "- **Precision:** Out of the positive predictions, how many were actually positive (true positives / (true positives + false positives)). Focuses on minimizing false positives.\n",
        "- **Recall:** Out of the actual positives, how many were correctly predicted (true positives / (true positives + false negatives)). Focuses on minimizing false negatives.\n",
        "- **F1-score:** Harmonic mean of precision and recall. Provides a balance between the two metrics."
      ]
    },
    {
      "cell_type": "code",
      "execution_count": 32,
      "metadata": {
        "colab": {
          "base_uri": "https://localhost:8080/",
          "height": 556
        },
        "id": "mZVGAdBXJ7el",
        "outputId": "97070445-38fa-424b-ca45-55a22da13698"
      },
      "outputs": [
        {
          "name": "stdout",
          "output_type": "stream",
          "text": [
            "Accuracy: 0.7528089887640449\n",
            "Precision: 0.831766480570117\n",
            "Recall: 0.7528089887640449\n",
            "F1-score: 0.7384406738341001\n"
          ]
        },
        {
          "data": {
            "image/png": "[encoded data removed]",
            "text/plain": [
              "<Figure size 600x500 with 1 Axes>"
            ]
          },
          "metadata": {},
          "output_type": "display_data"
        }
      ],
      "source": [
        "from sklearn.metrics import accuracy_score, precision_score, recall_score, f1_score\n",
        "\n",
        "accuracy = accuracy_score(y_test, pred)\n",
        "precision = precision_score(y_test, pred, average='weighted')  # Use 'weighted' for multi-class\n",
        "recall = recall_score(y_test, pred, average='weighted')\n",
        "f1 = f1_score(y_test, pred, average='weighted')\n",
        "\n",
        "print(f\"Accuracy: {accuracy}\")\n",
        "print(f\"Precision: {precision}\")\n",
        "print(f\"Recall: {recall}\")\n",
        "print(f\"F1-score: {f1}\")\n",
        "\n",
        "# Create a dictionary to store the metrics and their values\n",
        "metrics = {\n",
        "    'Accuracy': accuracy,\n",
        "    'Precision': precision,\n",
        "    'Recall': recall,\n",
        "    'F1-score': f1\n",
        "}\n",
        "\n",
        "# Create bar plot\n",
        "plt.figure(figsize=(6, 5))  # Adjust figure size if needed\n",
        "plt.bar(metrics.keys(), metrics.values(), color='skyblue')\n",
        "plt.title('Model Performance Metrics')\n",
        "plt.xlabel('Metric')\n",
        "plt.ylabel('Score')\n",
        "\n",
        "plt.savefig('model_performance_bar_plot.png')\n",
        "plt.show()"
      ]
    },
    {
      "cell_type": "code",
      "execution_count": 33,
      "metadata": {
        "colab": {
          "base_uri": "https://localhost:8080/",
          "height": 574
        },
        "id": "2vZ5u89ssYWT",
        "outputId": "54e9ef08-5dc2-4f75-fcf8-1541a4374019"
      },
      "outputs": [
        {
          "name": "stdout",
          "output_type": "stream",
          "text": [
            "business: 0.9074074074074074\n",
            "entertainment: 0.45\n",
            "politics: 1.0\n",
            "sport: 0.979381443298969\n",
            "tech: 0.425531914893617\n"
          ]
        },
        {
          "data": {
            "image/png": "[encoded data removed]",
            "text/plain": [
              "<Figure size 600x500 with 1 Axes>"
            ]
          },
          "metadata": {},
          "output_type": "display_data"
        }
      ],
      "source": [
        "import matplotlib.pyplot as plt\n",
        "import numpy as np\n",
        "from sklearn.metrics import accuracy_score\n",
        "\n",
        "# Assuming 'y_test' and 'pred' are defined as in your provided code\n",
        "# and 'target_encoding' maps category names to numerical labels\n",
        "\n",
        "# Get unique labels\n",
        "unique_labels = np.unique(y_test)\n",
        "\n",
        "# Calculate accuracy for each category and store in a dictionary\n",
        "category_accuracies = {}\n",
        "for label in unique_labels:\n",
        "    indices = np.where(y_test == label)[0]\n",
        "    accuracy = accuracy_score(np.array(y_test)[indices], np.array(pred)[indices])\n",
        "\n",
        "    # Get category name from target_encoding\n",
        "    for category_name, category_label in target_encoding.items():\n",
        "        if category_label == label:\n",
        "            category_accuracies[category_name] = accuracy\n",
        "            break\n",
        "for category, accuracy in category_accuracies.items():\n",
        "    print(f\"{category}: {accuracy}\")\n",
        "# Create bar plot\n",
        "plt.figure(figsize=(6, 5))\n",
        "plt.bar(category_accuracies.keys(), category_accuracies.values(), color='skyblue')\n",
        "plt.title('Accuracy for Each Target Category')\n",
        "plt.xlabel('Category')\n",
        "plt.ylabel('Accuracy')\n",
        "\n",
        "plt.savefig('accuracy_bar_plot.png')\n",
        "plt.show()"
      ]
    },
    {
      "cell_type": "markdown",
      "metadata": {
        "id": "p6fLTZsEtQPS"
      },
      "source": [
        "### **Creating MongoDB account and pushing the dataset over there**\n",
        "\n",
        "MongoDB is a popular NoSQL database. It stores data in flexible, JSON-like documents. This makes it great for handling data that doesn't fit neatly into traditional rows and columns.\n",
        "\n",
        "It's known for being scalable and easy to use, especially for developers working with data that changes frequently."
      ]
    },
    {
      "cell_type": "code",
      "execution_count": 34,
      "metadata": {
        "colab": {
          "base_uri": "https://localhost:8080/"
        },
        "id": "xlri2GF8saNz",
        "outputId": "06ed5e9c-c32a-4777-b2b3-f23ef6d4aba9"
      },
      "outputs": [
        {
          "name": "stdout",
          "output_type": "stream",
          "text": [
            "Requirement already satisfied: pymongo in c:\\users\\nikhil\\.conda\\envs\\news\\lib\\site-packages (4.10.1)Note: you may need to restart the kernel to use updated packages.\n",
            "\n",
            "Requirement already satisfied: dnspython<3.0.0,>=1.16.0 in c:\\users\\nikhil\\.conda\\envs\\news\\lib\\site-packages (from pymongo) (2.6.1)\n"
          ]
        }
      ],
      "source": [
        "pip install pymongo"
      ]
    },
    {
      "cell_type": "markdown",
      "metadata": {},
      "source": [
        "Creating connection with mongodb client"
      ]
    },
    {
      "cell_type": "code",
      "execution_count": 35,
      "metadata": {
        "colab": {
          "base_uri": "https://localhost:8080/"
        },
        "id": "9GpPibz6sTS2",
        "outputId": "8709fdcd-afb8-42d1-e8d2-805a7714881c"
      },
      "outputs": [
        {
          "name": "stdout",
          "output_type": "stream",
          "text": [
            "Pinged your deployment. You successfully connected to MongoDB!\n"
          ]
        }
      ],
      "source": [
        "import os\n",
        "from pymongo.mongo_client import MongoClient\n",
        "from pymongo.server_api import ServerApi\n",
        "\n",
        "uri = os.getenv('MONGODB_URI')\n",
        "\n",
        "# Create a new client and connect to the server\n",
        "client = MongoClient(uri, server_api=ServerApi('1'))\n",
        "\n",
        "# Send a ping to confirm a successful connection\n",
        "try:\n",
        "    client.admin.command('ping')\n",
        "    print(\"Pinged your deployment. You successfully connected to MongoDB!\")\n",
        "except Exception as e:\n",
        "    print(e)"
      ]
    },
    {
      "cell_type": "code",
      "execution_count": 36,
      "metadata": {
        "id": "hUbHH1OCs3w_"
      },
      "outputs": [],
      "source": [
        "data = pd.read_csv('https://raw.githubusercontent.com/nikhil-xyz/datasets/refs/heads/main/bbc_text_cls.csv')"
      ]
    },
    {
      "cell_type": "code",
      "execution_count": 37,
      "metadata": {
        "colab": {
          "base_uri": "https://localhost:8080/",
          "height": 206
        },
        "id": "9-8qkKDns_gp",
        "outputId": "fa8ff015-3321-4680-fcfa-d2e5974a89d7"
      },
      "outputs": [
        {
          "data": {
            "text/html": [
              "<div>\n",
              "<style scoped>\n",
              "    .dataframe tbody tr th:only-of-type {\n",
              "        vertical-align: middle;\n",
              "    }\n",
              "\n",
              "    .dataframe tbody tr th {\n",
              "        vertical-align: top;\n",
              "    }\n",
              "\n",
              "    .dataframe thead th {\n",
              "        text-align: right;\n",
              "    }\n",
              "</style>\n",
              "<table border=\"1\" class=\"dataframe\">\n",
              "  <thead>\n",
              "    <tr style=\"text-align: right;\">\n",
              "      <th></th>\n",
              "      <th>text</th>\n",
              "      <th>labels</th>\n",
              "    </tr>\n",
              "  </thead>\n",
              "  <tbody>\n",
              "    <tr>\n",
              "      <th>0</th>\n",
              "      <td>Ad sales boost Time Warner profit\\n\\nQuarterly...</td>\n",
              "      <td>business</td>\n",
              "    </tr>\n",
              "    <tr>\n",
              "      <th>1</th>\n",
              "      <td>Dollar gains on Greenspan speech\\n\\nThe dollar...</td>\n",
              "      <td>business</td>\n",
              "    </tr>\n",
              "    <tr>\n",
              "      <th>2</th>\n",
              "      <td>Yukos unit buyer faces loan claim\\n\\nThe owner...</td>\n",
              "      <td>business</td>\n",
              "    </tr>\n",
              "    <tr>\n",
              "      <th>3</th>\n",
              "      <td>High fuel prices hit BA's profits\\n\\nBritish A...</td>\n",
              "      <td>business</td>\n",
              "    </tr>\n",
              "    <tr>\n",
              "      <th>4</th>\n",
              "      <td>Pernod takeover talk lifts Domecq\\n\\nShares in...</td>\n",
              "      <td>business</td>\n",
              "    </tr>\n",
              "  </tbody>\n",
              "</table>\n",
              "</div>"
            ],
            "text/plain": [
              "                                                text    labels\n",
              "0  Ad sales boost Time Warner profit\\n\\nQuarterly...  business\n",
              "1  Dollar gains on Greenspan speech\\n\\nThe dollar...  business\n",
              "2  Yukos unit buyer faces loan claim\\n\\nThe owner...  business\n",
              "3  High fuel prices hit BA's profits\\n\\nBritish A...  business\n",
              "4  Pernod takeover talk lifts Domecq\\n\\nShares in...  business"
            ]
          },
          "execution_count": 37,
          "metadata": {},
          "output_type": "execute_result"
        }
      ],
      "source": [
        "data.head()"
      ]
    },
    {
      "cell_type": "markdown",
      "metadata": {},
      "source": [
        "converting dataframe to dictionary format."
      ]
    },
    {
      "cell_type": "code",
      "execution_count": 38,
      "metadata": {},
      "outputs": [],
      "source": [
        "data = data.to_dict(orient=\"records\")"
      ]
    },
    {
      "cell_type": "code",
      "execution_count": 39,
      "metadata": {},
      "outputs": [
        {
          "data": {
            "text/plain": [
              "{'text': 'Ad sales boost Time Warner profit\\n\\nQuarterly profits at US media giant TimeWarner jumped 76% to $1.13bn (£600m) for the three months to December, from $639m year-earlier.\\n\\nThe firm, which is now one of the biggest investors in Google, benefited from sales of high-speed internet connections and higher advert sales. TimeWarner said fourth quarter sales rose 2% to $11.1bn from $10.9bn. Its profits were buoyed by one-off gains which offset a profit dip at Warner Bros, and less users for AOL.\\n\\nTime Warner said on Friday that it now owns 8% of search-engine Google. But its own internet business, AOL, had has mixed fortunes. It lost 464,000 subscribers in the fourth quarter profits were lower than in the preceding three quarters. However, the company said AOL\\'s underlying profit before exceptional items rose 8% on the back of stronger internet advertising revenues. It hopes to increase subscribers by offering the online service free to TimeWarner internet customers and will try to sign up AOL\\'s existing customers for high-speed broadband. TimeWarner also has to restate 2000 and 2003 results following a probe by the US Securities Exchange Commission (SEC), which is close to concluding.\\n\\nTime Warner\\'s fourth quarter profits were slightly better than analysts\\' expectations. But its film division saw profits slump 27% to $284m, helped by box-office flops Alexander and Catwoman, a sharp contrast to year-earlier, when the third and final film in the Lord of the Rings trilogy boosted results. For the full-year, TimeWarner posted a profit of $3.36bn, up 27% from its 2003 performance, while revenues grew 6.4% to $42.09bn. \"Our financial performance was strong, meeting or exceeding all of our full-year objectives and greatly enhancing our flexibility,\" chairman and chief executive Richard Parsons said. For 2005, TimeWarner is projecting operating earnings growth of around 5%, and also expects higher revenue and wider profit margins.\\n\\nTimeWarner is to restate its accounts as part of efforts to resolve an inquiry into AOL by US market regulators. It has already offered to pay $300m to settle charges, in a deal that is under review by the SEC. The company said it was unable to estimate the amount it needed to set aside for legal reserves, which it previously set at $500m. It intends to adjust the way it accounts for a deal with German music publisher Bertelsmann\\'s purchase of a stake in AOL Europe, which it had reported as advertising revenue. It will now book the sale of its stake in AOL Europe as a loss on the value of that stake.',\n",
              " 'labels': 'business'}"
            ]
          },
          "execution_count": 39,
          "metadata": {},
          "output_type": "execute_result"
        }
      ],
      "source": [
        "data[0]"
      ]
    },
    {
      "cell_type": "markdown",
      "metadata": {},
      "source": [
        "uploading data to mongodb"
      ]
    },
    {
      "cell_type": "code",
      "execution_count": 40,
      "metadata": {
        "colab": {
          "base_uri": "https://localhost:8080/"
        },
        "id": "-SXd1T8TsYAE",
        "outputId": "bf517961-e597-4e1b-892e-bb90e53b0072"
      },
      "outputs": [
        {
          "name": "stdout",
          "output_type": "stream",
          "text": [
            "Data already exist\n"
          ]
        }
      ],
      "source": [
        "DB_NAME = \"News_Articles\"\n",
        "COLLECTION_NAME = \"news_data\"\n",
        "data_base = client[DB_NAME]\n",
        "collection = data_base[COLLECTION_NAME]\n",
        "\n",
        "collection_names = data_base.list_collection_names()\n",
        "# print(collection_names)\n",
        "if COLLECTION_NAME not in collection_names:\n",
        "    rec = collection.insert_many(data)\n",
        "else:\n",
        "    print(\"Data already exist\")"
      ]
    },
    {
      "cell_type": "code",
      "execution_count": null,
      "metadata": {
        "id": "hAX6PXS_sqSs"
      },
      "outputs": [],
      "source": []
    }
  ],
  "metadata": {
    "accelerator": "GPU",
    "colab": {
      "gpuType": "T4",
      "provenance": []
    },
    "kernelspec": {
      "display_name": "news",
      "language": "python",
      "name": "python3"
    },
    "language_info": {
      "codemirror_mode": {
        "name": "ipython",
        "version": 3
      },
      "file_extension": ".py",
      "mimetype": "text/x-python",
      "name": "python",
      "nbconvert_exporter": "python",
      "pygments_lexer": "ipython3",
      "version": "3.8.20"
    }
  },
  "nbformat": 4,
  "nbformat_minor": 0
}
